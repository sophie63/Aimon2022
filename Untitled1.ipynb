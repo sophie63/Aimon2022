{
 "cells": [
  {
   "cell_type": "code",
   "execution_count": 3,
   "metadata": {},
   "outputs": [],
   "source": [
    "using Images"
   ]
  },
  {
   "cell_type": "code",
   "execution_count": 2,
   "metadata": {},
   "outputs": [
    {
     "name": "stdout",
     "output_type": "stream",
     "text": [
      "    \u001b[36m\u001b[1mFetching:\u001b[22m\u001b[39m [========================================>]  99.9 %[36m\u001b[1mFetching:\u001b[22m\u001b[39m [=>                                       ]  0.6 %1.9 %2.0 %]  4.5 %\u001b[36m\u001b[1mFetching:\u001b[22m\u001b[39m [===>                                     ]  5.4 %\u001b[36m\u001b[1mFetching:\u001b[22m\u001b[39m [===>                                     ]  5.9 %>                                     ]  6.2 %===>                                     ]  6.7 %]  7.3 %====>                                    ]  7.8 % [=====>                                   ]  10.2 %                                   ]  12.4 %\u001b[36m\u001b[1mFetching:\u001b[22m\u001b[39m [=======>                                 ]  17.2 %========>                                ]  18.0 %20.9 %\u001b[36m\u001b[1mFetching:\u001b[22m\u001b[39m [=========>                               ]  22.4 %                              ]  24.6 %                             ]  26.0 %28.7 % [=============>                           ]  31.4 %]  32.1 %]  32.4 %36.4 % [================>                        ]  38.6 %]  39.3 %\u001b[36m\u001b[1mFetching:\u001b[22m\u001b[39m [================>                        ]  39.9 %>                       ]  41.0 %=================>                       ]  42.0 %===================>                     ]  46.2 %51.6 %======================>                  ]  54.4 %]  55.2 %\u001b[36m\u001b[1mFetching:\u001b[22m\u001b[39m [=========================>               ]  60.6 %\u001b[36m\u001b[1mFetching:\u001b[22m\u001b[39m [===========================>             ]  65.5 %]  67.5 %\u001b[36m\u001b[1mFetching:\u001b[22m\u001b[39m [============================>            ]  68.6 %]  69.1 % [=============================>           ]  71.7 %==============================>          ]  72.6 %===============================>         ]  75.1 % [===============================>         ]  76.7 %       ]  81.0 %\u001b[36m\u001b[1mFetching:\u001b[22m\u001b[39m [==================================>      ]  84.2 %===================================>     ]  85.2 %\u001b[36m\u001b[1mFetching:\u001b[22m\u001b[39m [===================================>     ]  87.4 %]  90.7 %  ]  92.7 %]  93.0 %> ]  96.2 %\r"
     ]
    }
   ],
   "source": [
    "import Pkg; Pkg.add(\"Images\")"
   ]
  },
  {
   "cell_type": "code",
   "execution_count": null,
   "metadata": {},
   "outputs": [],
   "source": [
    "stack=load()"
   ]
  }
 ],
 "metadata": {
  "kernelspec": {
   "display_name": "Julia 1.6.1",
   "language": "julia",
   "name": "julia-1.6"
  },
  "language_info": {
   "file_extension": ".jl",
   "mimetype": "application/julia",
   "name": "julia",
   "version": "1.6.1"
  }
 },
 "nbformat": 4,
 "nbformat_minor": 2
}
