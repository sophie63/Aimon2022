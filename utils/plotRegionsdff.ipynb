{
 "cells": [
  {
   "cell_type": "code",
   "execution_count": 1,
   "id": "f13c71c0",
   "metadata": {},
   "outputs": [],
   "source": [
    "import seaborn as sns\n",
    "from datetime import datetime\n",
    "from math import ceil\n",
    "from skimage.io import imsave\n",
    "import openpyxl\n",
    "import numpy as np\n",
    "import matplotlib.pyplot as plt\n",
    "#%plt.style.use(\"v_paper\")\n",
    "import pandas as pd\n",
    "from scipy.io import loadmat\n",
    "from scipy.io import savemat\n",
    "%matplotlib inline\n",
    "import seaborn as sns\n",
    "import statsmodels.formula.api as smf\n",
    "import re\n",
    "from statsmodels.stats.anova import anova_lm\n",
    "import os\n",
    "import os.path\n",
    "import statsmodels.api as smapi\n",
    "import sys\n",
    "import warnings\n",
    "from sklearn.linear_model import LinearRegression\n",
    "if not sys.warnoptions:\n",
    "    warnings.simplefilter(\"ignore\")\n",
    "import seaborn as sns\n",
    "import statsmodels as sm\n",
    "import scipy\n",
    "from pathlib import Path"
   ]
  },
  {
   "cell_type": "code",
   "execution_count": 2,
   "id": "ac90d73b",
   "metadata": {},
   "outputs": [],
   "source": [
    "GoodICFiles=pd.read_pickle(\"GoodICsdf.pkl\")"
   ]
  },
  {
   "cell_type": "code",
   "execution_count": 3,
   "id": "698b9e90",
   "metadata": {},
   "outputs": [
    {
     "ename": "NameError",
     "evalue": "name 'gal4' is not defined",
     "output_type": "error",
     "traceback": [
      "\u001b[1;31m---------------------------------------------------------------------------\u001b[0m",
      "\u001b[1;31mNameError\u001b[0m                                 Traceback (most recent call last)",
      "\u001b[1;32m~\\AppData\\Local\\Temp/ipykernel_41744/898125215.py\u001b[0m in \u001b[0;36m<module>\u001b[1;34m\u001b[0m\n\u001b[1;32m----> 1\u001b[1;33m \u001b[0mGoodICFiles\u001b[0m\u001b[1;33m.\u001b[0m\u001b[0mquery\u001b[0m\u001b[1;33m(\u001b[0m\u001b[1;34m'GAL4==\"'\u001b[0m\u001b[1;33m+\u001b[0m\u001b[0mgal4\u001b[0m\u001b[1;33m+\u001b[0m\u001b[1;34m'\"'\u001b[0m\u001b[1;33m)\u001b[0m\u001b[1;33m.\u001b[0m\u001b[0mquery\u001b[0m\u001b[1;33m(\u001b[0m\u001b[1;34m'UAS==\"'\u001b[0m\u001b[1;33m+\u001b[0m\u001b[0muas\u001b[0m\u001b[1;33m+\u001b[0m\u001b[1;34m'\"'\u001b[0m\u001b[1;33m)\u001b[0m\u001b[1;33m[\u001b[0m\u001b[1;34m'FlyID'\u001b[0m\u001b[1;33m]\u001b[0m\u001b[1;33m.\u001b[0m\u001b[0munique\u001b[0m\u001b[1;33m(\u001b[0m\u001b[1;33m)\u001b[0m\u001b[1;33m\u001b[0m\u001b[1;33m\u001b[0m\u001b[0m\n\u001b[0m",
      "\u001b[1;31mNameError\u001b[0m: name 'gal4' is not defined"
     ]
    }
   ],
   "source": [
    "GoodICFiles.query('GAL4==\"'+gal4+'\"').query('UAS==\"'+uas+'\"')['FlyID'].unique()"
   ]
  },
  {
   "cell_type": "code",
   "execution_count": null,
   "id": "704731e5",
   "metadata": {},
   "outputs": [],
   "source": [
    "GoodICFiles.columns.unique()"
   ]
  },
  {
   "cell_type": "code",
   "execution_count": 9,
   "id": "e9df8116",
   "metadata": {},
   "outputs": [
    {
     "name": "stdout",
     "output_type": "stream",
     "text": [
      "Nsyb 7f 1   NaN\n",
      "Name: FR, dtype: float64\n",
      "Nsyb 7f 1    244\n",
      "Name: expID, dtype: object\n",
      "Nsyb 7s Series([], Name: FR, dtype: float64)\n",
      "Nsyb 7s Series([], Name: expID, dtype: object)\n",
      "Nsyb 6m 21     5.0\n",
      "29    10.0\n",
      "Name: FR, dtype: float64\n",
      "Nsyb 6m 21     B42\n",
      "29    B192\n",
      "Name: expID, dtype: object\n",
      "Nsyb 6f 41    100.0\n",
      "Name: FR, dtype: float64\n",
      "Nsyb 6f 41    100148\n",
      "Name: expID, dtype: object\n",
      "Nsyb 6s Series([], Name: FR, dtype: float64)\n",
      "Nsyb 6s Series([], Name: expID, dtype: object)\n",
      "Nsyb syt6s Series([], Name: FR, dtype: float64)\n",
      "Nsyb syt6s Series([], Name: expID, dtype: object)\n",
      "GMR57C10 7f Series([], Name: FR, dtype: float64)\n",
      "GMR57C10 7f Series([], Name: expID, dtype: object)\n",
      "GMR57C10 7s 3    100.0\n",
      "Name: FR, dtype: float64\n",
      "GMR57C10 7s 3    100761\n",
      "Name: expID, dtype: object\n",
      "GMR57C10 6m Series([], Name: FR, dtype: float64)\n",
      "GMR57C10 6m Series([], Name: expID, dtype: object)\n",
      "GMR57C10 6f Series([], Name: FR, dtype: float64)\n",
      "GMR57C10 6f Series([], Name: expID, dtype: object)\n",
      "GMR57C10 6s 50    33.0\n",
      "Name: FR, dtype: float64\n",
      "GMR57C10 6s 50    100133\n",
      "Name: expID, dtype: object\n",
      "GMR57C10 syt6s Series([], Name: FR, dtype: float64)\n",
      "GMR57C10 syt6s Series([], Name: expID, dtype: object)\n",
      "Cha 7f Series([], Name: FR, dtype: float64)\n",
      "Cha 7f Series([], Name: expID, dtype: object)\n",
      "Cha 7s Series([], Name: FR, dtype: float64)\n",
      "Cha 7s Series([], Name: expID, dtype: object)\n",
      "Cha 6m Series([], Name: FR, dtype: float64)\n",
      "Cha 6m Series([], Name: expID, dtype: object)\n",
      "Cha 6f Series([], Name: FR, dtype: float64)\n",
      "Cha 6f Series([], Name: expID, dtype: object)\n",
      "Cha 6s Series([], Name: FR, dtype: float64)\n",
      "Cha 6s Series([], Name: expID, dtype: object)\n",
      "Cha syt6s Series([], Name: FR, dtype: float64)\n",
      "Cha syt6s Series([], Name: expID, dtype: object)\n",
      "Vglut 7f Series([], Name: FR, dtype: float64)\n",
      "Vglut 7f Series([], Name: expID, dtype: object)\n",
      "Vglut 7s Series([], Name: FR, dtype: float64)\n",
      "Vglut 7s Series([], Name: expID, dtype: object)\n",
      "Vglut 6m Series([], Name: FR, dtype: float64)\n",
      "Vglut 6m Series([], Name: expID, dtype: object)\n",
      "Vglut 6f Series([], Name: FR, dtype: float64)\n",
      "Vglut 6f Series([], Name: expID, dtype: object)\n",
      "Vglut 6s Series([], Name: FR, dtype: float64)\n",
      "Vglut 6s Series([], Name: expID, dtype: object)\n",
      "Vglut syt6s Series([], Name: FR, dtype: float64)\n",
      "Vglut syt6s Series([], Name: expID, dtype: object)\n",
      "Gad 7f Series([], Name: FR, dtype: float64)\n",
      "Gad 7f Series([], Name: expID, dtype: object)\n",
      "Gad 7s Series([], Name: FR, dtype: float64)\n",
      "Gad 7s Series([], Name: expID, dtype: object)\n",
      "Gad 6m Series([], Name: FR, dtype: float64)\n",
      "Gad 6m Series([], Name: expID, dtype: object)\n",
      "Gad 6f Series([], Name: FR, dtype: float64)\n",
      "Gad 6f Series([], Name: expID, dtype: object)\n",
      "Gad 6s Series([], Name: FR, dtype: float64)\n",
      "Gad 6s Series([], Name: expID, dtype: object)\n",
      "Gad syt6s Series([], Name: FR, dtype: float64)\n",
      "Gad syt6s Series([], Name: expID, dtype: object)\n",
      "TH 7f Series([], Name: FR, dtype: float64)\n",
      "TH 7f Series([], Name: expID, dtype: object)\n",
      "TH 7s Series([], Name: FR, dtype: float64)\n",
      "TH 7s Series([], Name: expID, dtype: object)\n",
      "TH 6m Series([], Name: FR, dtype: float64)\n",
      "TH 6m Series([], Name: expID, dtype: object)\n",
      "TH 6f Series([], Name: FR, dtype: float64)\n",
      "TH 6f Series([], Name: expID, dtype: object)\n",
      "TH 6s Series([], Name: FR, dtype: float64)\n",
      "TH 6s Series([], Name: expID, dtype: object)\n",
      "TH syt6s Series([], Name: FR, dtype: float64)\n",
      "TH syt6s Series([], Name: expID, dtype: object)\n",
      "Trh 7f Series([], Name: FR, dtype: float64)\n",
      "Trh 7f Series([], Name: expID, dtype: object)\n",
      "Trh 7s Series([], Name: FR, dtype: float64)\n",
      "Trh 7s Series([], Name: expID, dtype: object)\n",
      "Trh 6m Series([], Name: FR, dtype: float64)\n",
      "Trh 6m Series([], Name: expID, dtype: object)\n",
      "Trh 6f Series([], Name: FR, dtype: float64)\n",
      "Trh 6f Series([], Name: expID, dtype: object)\n",
      "Trh 6s Series([], Name: FR, dtype: float64)\n",
      "Trh 6s Series([], Name: expID, dtype: object)\n",
      "Trh syt6s Series([], Name: FR, dtype: float64)\n",
      "Trh syt6s Series([], Name: expID, dtype: object)\n",
      "TDC 7f Series([], Name: FR, dtype: float64)\n",
      "TDC 7f Series([], Name: expID, dtype: object)\n",
      "TDC 7s Series([], Name: FR, dtype: float64)\n",
      "TDC 7s Series([], Name: expID, dtype: object)\n",
      "TDC 6m Series([], Name: FR, dtype: float64)\n",
      "TDC 6m Series([], Name: expID, dtype: object)\n",
      "TDC 6f Series([], Name: FR, dtype: float64)\n",
      "TDC 6f Series([], Name: expID, dtype: object)\n",
      "TDC 6s Series([], Name: FR, dtype: float64)\n",
      "TDC 6s Series([], Name: expID, dtype: object)\n",
      "TDC syt6s Series([], Name: FR, dtype: float64)\n",
      "TDC syt6s Series([], Name: expID, dtype: object)\n"
     ]
    }
   ],
   "source": [
    "for gal4 in GoodICFiles['GAL4'].unique():\n",
    "        for uas in GoodICFiles['UAS'].unique():\n",
    "            try:\n",
    "                print(gal4,uas,GoodICFiles.query('GroomRegressor!=\"\"').query('GAL4==\"'+gal4+'\"').query('UAS==\"'+uas+'\"')['FR'])\n",
    "                print(gal4,uas,GoodICFiles.query('GroomRegressor!=\"\"').query('GAL4==\"'+gal4+'\"').query('UAS==\"'+uas+'\"')['expID'])\n",
    "                \n",
    "            except:\n",
    "                continue\n",
    "                "
   ]
  },
  {
   "cell_type": "code",
   "execution_count": 150,
   "id": "53f6808f",
   "metadata": {},
   "outputs": [
    {
     "name": "stdout",
     "output_type": "stream",
     "text": [
      "100160 , 100160ss2onc500reg198TSTS_LR.mat\n",
      "B1072 , DataB1072ss1reg244TSTS_LR.mat\n",
      "B1073 , DataB1073ss1reg260TSTS_LR.mat\n",
      "B1074 , DataB1074ss1reg196TSTS_LR.mat\n",
      "B1075 , DataB1075ss1reg236TSTS_LR.mat\n",
      "B1076 , DataB1076ss1reg178TSTS_LR.mat\n",
      "B1080 , DataB1080ss1reg258TSTS_LR.mat\n",
      "B1089 , DataB1089ss1reg174TSTS_LR.mat\n",
      "B1090 , DataB1090ss1reg196TSTS_LR.mat\n",
      "B757 , DataB757ss1reg146TSTS_LR.mat\n",
      "B758 , DataB758ss1reg134TSTS_LR.mat\n",
      "B1133 , B1133ssTranTS_LR.mat\n",
      "B1134 , B1134ssTranTS_LR.mat\n",
      "B116 , DataB116regdFF1000pointskfcTS_LR.mat\n",
      "B117 , DataB117ss1kfTS_LR.mat\n",
      "B126 , DataB126ss1regkfTS_LR.mat\n",
      "B129 , DataB129regdFF1000pointskfTS_LR.mat\n",
      "B130 , DataB130ss1regdFF4000pointskfTS_LR.mat\n",
      "B131 , DataB131ss1regdFF4000pointskfTS_LR.mat\n",
      "B132 , DataB132ss1regdFF4000pointskfTS_LR.mat\n",
      "B133 , DataB133ss1regdFF4000pointskfTS_LR.mat\n",
      "B134 , DataB134ss1regdFF4000pointskfTS_LR.mat\n",
      "B140 , B140ssTranTS_LR.mat\n",
      "B153 , B153ssTranTS_LR.mat\n",
      "B154 , DataB154ss1regcdFF4000pointskfTS_LR.mat\n"
     ]
    },
    {
     "ename": "KeyboardInterrupt",
     "evalue": "",
     "output_type": "error",
     "traceback": [
      "\u001b[1;31m---------------------------------------------------------------------------\u001b[0m",
      "\u001b[1;31mKeyboardInterrupt\u001b[0m                         Traceback (most recent call last)",
      "\u001b[1;32m~\\AppData\\Local\\Temp/ipykernel_8964/792383096.py\u001b[0m in \u001b[0;36m<module>\u001b[1;34m\u001b[0m\n\u001b[0;32m      1\u001b[0m \u001b[0mGoodICFiles\u001b[0m\u001b[1;33m[\u001b[0m\u001b[1;34m'RegionFile'\u001b[0m\u001b[1;33m]\u001b[0m\u001b[1;33m=\u001b[0m\u001b[1;34m''\u001b[0m\u001b[1;33m\u001b[0m\u001b[1;33m\u001b[0m\u001b[0m\n\u001b[0;32m      2\u001b[0m \u001b[1;33m\u001b[0m\u001b[0m\n\u001b[1;32m----> 3\u001b[1;33m \u001b[1;32mfor\u001b[0m \u001b[0mdirpath\u001b[0m\u001b[1;33m,\u001b[0m \u001b[0mdirnames\u001b[0m\u001b[1;33m,\u001b[0m \u001b[0mfilenames\u001b[0m \u001b[1;32min\u001b[0m \u001b[0mos\u001b[0m\u001b[1;33m.\u001b[0m\u001b[0mwalk\u001b[0m\u001b[1;33m(\u001b[0m\u001b[1;34m\"Z:\\GrunwaldKadow_group\\Sophie\\WalkProject\"\u001b[0m\u001b[1;33m,\u001b[0m \u001b[0mtopdown\u001b[0m \u001b[1;33m=\u001b[0m \u001b[1;32mFalse\u001b[0m\u001b[1;33m)\u001b[0m\u001b[1;33m:\u001b[0m\u001b[1;33m\u001b[0m\u001b[1;33m\u001b[0m\u001b[0m\n\u001b[0m\u001b[0;32m      4\u001b[0m     \u001b[1;32mfor\u001b[0m \u001b[0mfilename\u001b[0m \u001b[1;32min\u001b[0m \u001b[1;33m[\u001b[0m\u001b[0mf\u001b[0m \u001b[1;32mfor\u001b[0m \u001b[0mf\u001b[0m \u001b[1;32min\u001b[0m \u001b[0mfilenames\u001b[0m \u001b[1;32mif\u001b[0m \u001b[0mf\u001b[0m\u001b[1;33m.\u001b[0m\u001b[0mendswith\u001b[0m\u001b[1;33m(\u001b[0m\u001b[1;34m\"TS_LR.mat\"\u001b[0m\u001b[1;33m)\u001b[0m\u001b[1;33m]\u001b[0m\u001b[1;33m:\u001b[0m\u001b[1;33m\u001b[0m\u001b[1;33m\u001b[0m\u001b[0m\n\u001b[0;32m      5\u001b[0m         \u001b[0mID\u001b[0m\u001b[1;33m=\u001b[0m\u001b[0mos\u001b[0m\u001b[1;33m.\u001b[0m\u001b[0mpath\u001b[0m\u001b[1;33m.\u001b[0m\u001b[0mjoin\u001b[0m\u001b[1;33m(\u001b[0m\u001b[0mdirpath\u001b[0m\u001b[1;33m,\u001b[0m \u001b[0mfilename\u001b[0m\u001b[1;33m)\u001b[0m\u001b[1;33m.\u001b[0m\u001b[0msplit\u001b[0m\u001b[1;33m(\u001b[0m\u001b[1;34m'\\\\'\u001b[0m\u001b[1;33m)\u001b[0m\u001b[1;33m\u001b[0m\u001b[1;33m\u001b[0m\u001b[0m\n",
      "\u001b[1;32m~\\anaconda3\\lib\\os.py\u001b[0m in \u001b[0;36m_walk\u001b[1;34m(top, topdown, onerror, followlinks)\u001b[0m\n\u001b[0;32m    420\u001b[0m         \u001b[1;31m# Recurse into sub-directories\u001b[0m\u001b[1;33m\u001b[0m\u001b[1;33m\u001b[0m\u001b[0m\n\u001b[0;32m    421\u001b[0m         \u001b[1;32mfor\u001b[0m \u001b[0mnew_path\u001b[0m \u001b[1;32min\u001b[0m \u001b[0mwalk_dirs\u001b[0m\u001b[1;33m:\u001b[0m\u001b[1;33m\u001b[0m\u001b[1;33m\u001b[0m\u001b[0m\n\u001b[1;32m--> 422\u001b[1;33m             \u001b[1;32myield\u001b[0m \u001b[1;32mfrom\u001b[0m \u001b[0m_walk\u001b[0m\u001b[1;33m(\u001b[0m\u001b[0mnew_path\u001b[0m\u001b[1;33m,\u001b[0m \u001b[0mtopdown\u001b[0m\u001b[1;33m,\u001b[0m \u001b[0monerror\u001b[0m\u001b[1;33m,\u001b[0m \u001b[0mfollowlinks\u001b[0m\u001b[1;33m)\u001b[0m\u001b[1;33m\u001b[0m\u001b[1;33m\u001b[0m\u001b[0m\n\u001b[0m\u001b[0;32m    423\u001b[0m         \u001b[1;31m# Yield after recursion if going bottom up\u001b[0m\u001b[1;33m\u001b[0m\u001b[1;33m\u001b[0m\u001b[0m\n\u001b[0;32m    424\u001b[0m         \u001b[1;32myield\u001b[0m \u001b[0mtop\u001b[0m\u001b[1;33m,\u001b[0m \u001b[0mdirs\u001b[0m\u001b[1;33m,\u001b[0m \u001b[0mnondirs\u001b[0m\u001b[1;33m\u001b[0m\u001b[1;33m\u001b[0m\u001b[0m\n",
      "\u001b[1;32m~\\anaconda3\\lib\\os.py\u001b[0m in \u001b[0;36m_walk\u001b[1;34m(top, topdown, onerror, followlinks)\u001b[0m\n\u001b[0;32m    420\u001b[0m         \u001b[1;31m# Recurse into sub-directories\u001b[0m\u001b[1;33m\u001b[0m\u001b[1;33m\u001b[0m\u001b[0m\n\u001b[0;32m    421\u001b[0m         \u001b[1;32mfor\u001b[0m \u001b[0mnew_path\u001b[0m \u001b[1;32min\u001b[0m \u001b[0mwalk_dirs\u001b[0m\u001b[1;33m:\u001b[0m\u001b[1;33m\u001b[0m\u001b[1;33m\u001b[0m\u001b[0m\n\u001b[1;32m--> 422\u001b[1;33m             \u001b[1;32myield\u001b[0m \u001b[1;32mfrom\u001b[0m \u001b[0m_walk\u001b[0m\u001b[1;33m(\u001b[0m\u001b[0mnew_path\u001b[0m\u001b[1;33m,\u001b[0m \u001b[0mtopdown\u001b[0m\u001b[1;33m,\u001b[0m \u001b[0monerror\u001b[0m\u001b[1;33m,\u001b[0m \u001b[0mfollowlinks\u001b[0m\u001b[1;33m)\u001b[0m\u001b[1;33m\u001b[0m\u001b[1;33m\u001b[0m\u001b[0m\n\u001b[0m\u001b[0;32m    423\u001b[0m         \u001b[1;31m# Yield after recursion if going bottom up\u001b[0m\u001b[1;33m\u001b[0m\u001b[1;33m\u001b[0m\u001b[0m\n\u001b[0;32m    424\u001b[0m         \u001b[1;32myield\u001b[0m \u001b[0mtop\u001b[0m\u001b[1;33m,\u001b[0m \u001b[0mdirs\u001b[0m\u001b[1;33m,\u001b[0m \u001b[0mnondirs\u001b[0m\u001b[1;33m\u001b[0m\u001b[1;33m\u001b[0m\u001b[0m\n",
      "\u001b[1;32m~\\anaconda3\\lib\\os.py\u001b[0m in \u001b[0;36m_walk\u001b[1;34m(top, topdown, onerror, followlinks)\u001b[0m\n\u001b[0;32m    420\u001b[0m         \u001b[1;31m# Recurse into sub-directories\u001b[0m\u001b[1;33m\u001b[0m\u001b[1;33m\u001b[0m\u001b[0m\n\u001b[0;32m    421\u001b[0m         \u001b[1;32mfor\u001b[0m \u001b[0mnew_path\u001b[0m \u001b[1;32min\u001b[0m \u001b[0mwalk_dirs\u001b[0m\u001b[1;33m:\u001b[0m\u001b[1;33m\u001b[0m\u001b[1;33m\u001b[0m\u001b[0m\n\u001b[1;32m--> 422\u001b[1;33m             \u001b[1;32myield\u001b[0m \u001b[1;32mfrom\u001b[0m \u001b[0m_walk\u001b[0m\u001b[1;33m(\u001b[0m\u001b[0mnew_path\u001b[0m\u001b[1;33m,\u001b[0m \u001b[0mtopdown\u001b[0m\u001b[1;33m,\u001b[0m \u001b[0monerror\u001b[0m\u001b[1;33m,\u001b[0m \u001b[0mfollowlinks\u001b[0m\u001b[1;33m)\u001b[0m\u001b[1;33m\u001b[0m\u001b[1;33m\u001b[0m\u001b[0m\n\u001b[0m\u001b[0;32m    423\u001b[0m         \u001b[1;31m# Yield after recursion if going bottom up\u001b[0m\u001b[1;33m\u001b[0m\u001b[1;33m\u001b[0m\u001b[0m\n\u001b[0;32m    424\u001b[0m         \u001b[1;32myield\u001b[0m \u001b[0mtop\u001b[0m\u001b[1;33m,\u001b[0m \u001b[0mdirs\u001b[0m\u001b[1;33m,\u001b[0m \u001b[0mnondirs\u001b[0m\u001b[1;33m\u001b[0m\u001b[1;33m\u001b[0m\u001b[0m\n",
      "\u001b[1;32m~\\anaconda3\\lib\\os.py\u001b[0m in \u001b[0;36m_walk\u001b[1;34m(top, topdown, onerror, followlinks)\u001b[0m\n\u001b[0;32m    365\u001b[0m             \u001b[1;32mtry\u001b[0m\u001b[1;33m:\u001b[0m\u001b[1;33m\u001b[0m\u001b[1;33m\u001b[0m\u001b[0m\n\u001b[0;32m    366\u001b[0m                 \u001b[1;32mtry\u001b[0m\u001b[1;33m:\u001b[0m\u001b[1;33m\u001b[0m\u001b[1;33m\u001b[0m\u001b[0m\n\u001b[1;32m--> 367\u001b[1;33m                     \u001b[0mentry\u001b[0m \u001b[1;33m=\u001b[0m \u001b[0mnext\u001b[0m\u001b[1;33m(\u001b[0m\u001b[0mscandir_it\u001b[0m\u001b[1;33m)\u001b[0m\u001b[1;33m\u001b[0m\u001b[1;33m\u001b[0m\u001b[0m\n\u001b[0m\u001b[0;32m    368\u001b[0m                 \u001b[1;32mexcept\u001b[0m \u001b[0mStopIteration\u001b[0m\u001b[1;33m:\u001b[0m\u001b[1;33m\u001b[0m\u001b[1;33m\u001b[0m\u001b[0m\n\u001b[0;32m    369\u001b[0m                     \u001b[1;32mbreak\u001b[0m\u001b[1;33m\u001b[0m\u001b[1;33m\u001b[0m\u001b[0m\n",
      "\u001b[1;31mKeyboardInterrupt\u001b[0m: "
     ]
    }
   ],
   "source": [
    "GoodICFiles['RegionFile']=''\n",
    "\n",
    "for dirpath, dirnames, filenames in os.walk(\"Z:\\GrunwaldKadow_group\\Sophie\\WalkProject\", topdown = False):\n",
    "    for filename in [f for f in filenames if f.endswith(\"TS_LR.mat\")]:\n",
    "        ID=os.path.join(dirpath, filename).split('\\\\')\n",
    "        IDh0=ID[len(ID)-1]\n",
    "        IDh=IDh0.split('Tr')[0]\n",
    "        IDh1=IDh.split('reg')[0]\n",
    "        IDh2=IDh1.split('ss')[0]\n",
    "        IDh3=IDh2.split('Data')\n",
    "        IDh4=IDh3[len(IDh3)-1].split('TS_LR')[0]  \n",
    "        IDh5=IDh4.split('_')[0]\n",
    "        IDh6=IDh5.split('series')[0]\n",
    "        IDh7=IDh6.split('GoodIC')[0]\n",
    "        \n",
    "        print(IDh7,',',IDh0)\n",
    "\n",
    "        for i in range(GoodICFiles.shape[0]):\n",
    "            \n",
    "            ID2=IDh[0:(len(GoodICFiles.iloc[i]['expID']))]\n",
    "            IDg=GoodICFiles.iloc[i]['TSfile'].split('/')\n",
    "           # IDg2=IDg[len(IDg)-1].split('ss')\n",
    "           # print(IDg2)\n",
    "            #print(ID2)  \n",
    "            #print(GoodICFiles.iloc[i]['expID'])\n",
    "            if GoodICFiles.iloc[i]['expID'] == IDh7:             \n",
    "                #if ('Walk' in filename) or ('walk' in filename) or ('Rbinkd' in filename):                \n",
    "                GoodICFiles.loc[GoodICFiles.index == i,['RegionFile']] =os.path.join(dirpath, filename)\n",
    "               # print(IDh4[0])\n",
    "               # else:\n",
    "                \n",
    "                    \n",
    "                 \n"
   ]
  },
  {
   "cell_type": "code",
   "execution_count": 192,
   "id": "279f3b85",
   "metadata": {},
   "outputs": [],
   "source": [
    "GoodICFiles.loc[GoodICFiles['expID'] == 100106,['12RegionFile']]=r'Z:\\GrunwaldKadow_group\\Sophie\\WalkProject\\Pan-NeuronalCalcium\\Nsyb6M\\100106-GSB2\\GSB2_psfproj_dff_kf_169ICs_mapTS12Regions.mat'"
   ]
  },
  {
   "cell_type": "code",
   "execution_count": null,
   "id": "5471dc8a",
   "metadata": {},
   "outputs": [],
   "source": [
    "GoodICFiles.iloc[19]['expID']"
   ]
  },
  {
   "cell_type": "code",
   "execution_count": 151,
   "id": "3555754b",
   "metadata": {},
   "outputs": [],
   "source": [
    "plt.rcParams[\"font.family\"] = \"Arial\"\n",
    "plt.rcParams['font.size'] = 14"
   ]
  },
  {
   "cell_type": "code",
   "execution_count": 159,
   "id": "01037f73",
   "metadata": {},
   "outputs": [],
   "source": [
    "GoodICFiles=pd.read_pickle(\"GoodICsdf.pkl\")"
   ]
  },
  {
   "cell_type": "code",
   "execution_count": 207,
   "id": "ec01fedb",
   "metadata": {},
   "outputs": [
    {
     "name": "stdout",
     "output_type": "stream",
     "text": [
      "19    B40\n",
      "Name: expID, dtype: object\n",
      "19    Z:\\GrunwaldKadow_group\\Sophie\\WalkProject\\Pan-...\n",
      "Name: 12RegionFile, dtype: object\n",
      "19\n"
     ]
    },
    {
     "data": {
      "image/png": "[encoded data removed]",
      "text/plain": [
       "<Figure size 432x288 with 1 Axes>"
      ]
     },
     "metadata": {
      "needs_background": "light"
     },
     "output_type": "display_data"
    },
    {
     "name": "stdout",
     "output_type": "stream",
     "text": [
      "Nsyb\n",
      "B40\n"
     ]
    }
   ],
   "source": [
    "#for i in range(i+1,GoodICFiles.shape[0]):\n",
    "for i in range(19,20):\n",
    "    print(GoodICFiles.loc[GoodICFiles.index == i]['expID'])\n",
    "    print(GoodICFiles.loc[GoodICFiles.index == i]['12RegionFile'])\n",
    "#for i in range(7,10):\n",
    "    #try:\n",
    "    if GoodICFiles.iloc[i]['WalkRegressor'] != '':\n",
    "            print(i)\n",
    "            TS=loadmat(list(GoodICFiles.loc[GoodICFiles.index == i]['12RegionFile'])[0])['TS']\n",
    "            \n",
    "            FR=GoodICFiles.iloc[i]['FR']\n",
    "             \n",
    "            \n",
    "            #Regressor=loadmat(GoodICFiles.iloc[i]['WalkRegressor'])['Rkd']\n",
    "            Regressor=loadmat(GoodICFiles.iloc[i]['WalkRegressor'].replace('.mat','Ron_and_Roffkd_and_Rbinfilledkd.mat'))['Rbinkd'][0]\n",
    "            Regressor=Regressor[0:1499]\n",
    "           # if Regressor.shape[0]<Regressor.shape[1]:\n",
    "           #     Regressor=Regressor.T\n",
    "            if TS.shape[0]>TS.shape[1]:\n",
    "                TS=TS.T            \n",
    "            if TS.shape[1]==(Regressor.shape[0]-1):\n",
    "                Regressor=Regressor[1:Regressor.shape[0]]    \n",
    "            if TS.shape[1]==(Regressor.shape[0]-2):\n",
    "                Regressor=Regressor[1:Regressor.shape[0]-1]    \n",
    "            if TS.shape[1]==(Regressor.shape[0]-3):\n",
    "                Regressor=Regressor[2:Regressor.shape[0]-1] \n",
    "            if TS.shape[1]==(Regressor.shape[0]-4):\n",
    "                Regressor=Regressor[2:Regressor.shape[0]-2]    \n",
    "            if TS.shape[1]<Regressor.shape[0]:    \n",
    "                Regressor=Regressor[int(GoodICFiles.iloc[i]['TSlowlimWalk']):int(GoodICFiles.iloc[i]['TShighlimWalk']+1)]     \n",
    "            if TS.shape[1]==(Regressor.shape[0]-1):\n",
    "                Regressor=Regressor[1:Regressor.shape[0]]    \n",
    "                \n",
    "            Time=240\n",
    "            \n",
    "            \n",
    "            plt.plot(range(int(Time*FR))/FR,Regressor[0:int(Time*FR)]/(2*np.std(Regressor)),c='green')\n",
    "            for l in range(12):\n",
    "                plt.plot(range(int(Time*FR))/FR,TS[l,0:int(Time*FR)]*10+l+2,c='black')               \n",
    "            \n",
    "            UAS=GoodICFiles.iloc[i]['UAS']\n",
    "         \n",
    "           # Rond=loadmat(GoodICFiles.iloc[i]['WalkRegressor'].replace('.mat','Ron_and_Roffkd_and_Rbinfilledkd.mat'))['Ronkd'][0]\n",
    "            #Roffd=loadmat(GoodICFiles.iloc[i]['WalkRegressor'].replace('.mat','Ron_and_Roffkd_and_Rbinfilledkd.mat'))['Roffkd'][0]\n",
    "\n",
    "            #Straightkd=loadmat(GoodICFiles.iloc[i]['WalkRegressor'].replace('Rbinkd.mat','Dirkd.mat'))['Straightkd'].T[0]\n",
    "\n",
    "          #  plt.plot(range(int(Time*FR))/FR,Rond[0:int(Time*FR)]/(3*np.std(Rond))-2)\n",
    "          #  plt.plot(range(int(Time*FR))/FR,Roffd[0:int(Time*FR)]/(3*np.std(Roffd))-4)\n",
    "\n",
    "           # plt.plot(range(int(Time*FR))/FR,Straightkd[0:int(Time*FR)]/(3*np.std(Straightkd))-6)\n",
    "            plt.xlabel(\"Time (s)\")\n",
    "            plt.yticks(ticks=[0,2,3,4,5,6,7,8,9,10,11,12,13], labels=['Walk','AL','MB','SNP','LH','INP','CX','LX','PENP','GNG','VMNP','VLNP','OL'])\n",
    "            plt.savefig('Z:\\GrunwaldKadow_group\\Sophie\\WalkProject\\Figures\\Figure1\\Tracesx10'+GoodICFiles.iloc[i]['expID']+'.svg')\n",
    "              \n",
    "            \n",
    "            plt.show()\n",
    "            print(GoodICFiles.iloc[i]['GAL4'])\n",
    "            print(GoodICFiles.iloc[i]['expID'])\n",
    "\n",
    "  #  except:\n",
    "   #      continue   \n"
   ]
  },
  {
   "cell_type": "code",
   "execution_count": 205,
   "id": "3d76b5e9",
   "metadata": {},
   "outputs": [
    {
     "data": {
      "text/plain": [
       "(1508,)"
      ]
     },
     "execution_count": 205,
     "metadata": {},
     "output_type": "execute_result"
    }
   ],
   "source": [
    "Regressor.shape"
   ]
  },
  {
   "cell_type": "code",
   "execution_count": 126,
   "id": "a1dc7478",
   "metadata": {},
   "outputs": [
    {
     "data": {
      "text/plain": [
       "14"
      ]
     },
     "execution_count": 126,
     "metadata": {},
     "output_type": "execute_result"
    }
   ],
   "source": [
    "len([0,2,3,4,5,6,7,8,9,10,11,12,13,14])"
   ]
  },
  {
   "cell_type": "code",
   "execution_count": 105,
   "id": "74b1a396",
   "metadata": {},
   "outputs": [
    {
     "data": {
      "text/plain": [
       "array([917.38183335, 923.84183851, 930.99454452, ..., 882.52165113,\n",
       "       879.95060703, 879.75026514])"
      ]
     },
     "execution_count": 105,
     "metadata": {},
     "output_type": "execute_result"
    }
   ],
   "source": [
    "loadmat(GoodICFiles.iloc[11]['WalkRegressor'].replace('Rbinkd.mat','Dirkd.mat'))['Straightkd'].T[0]"
   ]
  },
  {
   "cell_type": "code",
   "execution_count": null,
   "id": "6d9b79f8",
   "metadata": {},
   "outputs": [],
   "source": [
    "B41, 21, 300 frames"
   ]
  },
  {
   "cell_type": "code",
   "execution_count": 94,
   "id": "3d1ab002",
   "metadata": {},
   "outputs": [
    {
     "data": {
      "text/plain": [
       "array([0.])"
      ]
     },
     "execution_count": 94,
     "metadata": {},
     "output_type": "execute_result"
    }
   ],
   "source": [
    "Straightkd"
   ]
  },
  {
   "cell_type": "code",
   "execution_count": 89,
   "id": "b4bc5575",
   "metadata": {},
   "outputs": [
    {
     "data": {
      "text/plain": [
       "5498"
      ]
     },
     "execution_count": 89,
     "metadata": {},
     "output_type": "execute_result"
    }
   ],
   "source": [
    "len(TS[l,0:int(180*FR)])"
   ]
  },
  {
   "cell_type": "code",
   "execution_count": 88,
   "id": "9fc3456c",
   "metadata": {},
   "outputs": [
    {
     "data": {
      "text/plain": [
       "9000"
      ]
     },
     "execution_count": 88,
     "metadata": {},
     "output_type": "execute_result"
    }
   ],
   "source": [
    "len(range(int(180*FR))/FR)"
   ]
  },
  {
   "cell_type": "code",
   "execution_count": 30,
   "id": "31fabe0a",
   "metadata": {},
   "outputs": [
    {
     "data": {
      "text/plain": [
       "[<matplotlib.lines.Line2D at 0x1d2a9441f10>]"
      ]
     },
     "execution_count": 30,
     "metadata": {},
     "output_type": "execute_result"
    },
    {
     "data": {
      "image/png": "[encoded data removed]",
      "text/plain": [
       "<Figure size 432x288 with 1 Axes>"
      ]
     },
     "metadata": {
      "needs_background": "light"
     },
     "output_type": "display_data"
    }
   ],
   "source": [
    "plt.plot(loadmat(GoodICFiles.iloc[4]['WalkRegressor'].replace('.mat','Ron_and_Roffkd_and_Rbinfilledkd.mat'))['Ronkd'][0])"
   ]
  },
  {
   "cell_type": "code",
   "execution_count": 20,
   "id": "b805dec2",
   "metadata": {},
   "outputs": [
    {
     "data": {
      "text/plain": [
       "'Z:\\\\GrunwaldKadow_group\\\\Sophie\\\\WalkProject\\\\Pan-NeuronalCalcium\\\\7s\\\\100761-100765\\\\100761\\\\Data100761ss1-1-5529220ICTS12Regions.mat'"
      ]
     },
     "execution_count": 20,
     "metadata": {},
     "output_type": "execute_result"
    }
   ],
   "source": [
    "list(GoodICFiles.loc[GoodICFiles.index == i]['12RegionFile'])[0]"
   ]
  },
  {
   "cell_type": "code",
   "execution_count": 59,
   "id": "09eb6b1d",
   "metadata": {},
   "outputs": [],
   "source": [
    "GoodICFiles.to_pickle(\"GoodICsdf.pkl\")\n",
    "GoodICFiles.to_pickle(\"Z:\\GrunwaldKadow_group\\Sophie\\WalkProject\\GoodICsdf.pkl\")"
   ]
  },
  {
   "cell_type": "code",
   "execution_count": null,
   "id": "47ef593f",
   "metadata": {},
   "outputs": [],
   "source": []
  }
 ],
 "metadata": {
  "kernelspec": {
   "display_name": "Python 3 (ipykernel)",
   "language": "python",
   "name": "python3"
  },
  "language_info": {
   "codemirror_mode": {
    "name": "ipython",
    "version": 3
   },
   "file_extension": ".py",
   "mimetype": "text/x-python",
   "name": "python",
   "nbconvert_exporter": "python",
   "pygments_lexer": "ipython3",
   "version": "3.9.7"
  }
 },
 "nbformat": 4,
 "nbformat_minor": 5
}
