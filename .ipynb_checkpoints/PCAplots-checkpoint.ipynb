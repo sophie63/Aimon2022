{
 "cells": [
  {
   "cell_type": "code",
   "execution_count": null,
   "id": "e64a4f9a",
   "metadata": {},
   "outputs": [],
   "source": [
    "import nibabel as nb\n",
    "import matplotlib\n",
    "#import h5py\n",
    "import numpy as np\n",
    "from scipy.ndimage import uniform_filter1d\n",
    "import matplotlib.pyplot as plt\n",
    "import pandas as pd\n",
    "import scipy"
   ]
  },
  {
   "cell_type": "code",
   "execution_count": null,
   "id": "3536747b",
   "metadata": {},
   "outputs": [],
   "source": [
    "nimt=nb.load(\"C:\\\\Users\\Soso\\Desktop\\FishData\\\\20211214_131802by4dfsmall.nii\")\n",
    "D=np.swapaxes(np.squeeze(nimt.get_fdata()),0,1)\n",
    "w,h,z,t=D.shape"
   ]
  },
  {
   "cell_type": "code",
   "execution_count": null,
   "id": "ca34e9f0",
   "metadata": {},
   "outputs": [],
   "source": [
    "R=np.reshape(D,[w*h*z,t]).T;\n",
    "R0=R\n",
    "R=(R0-np.mean(R0,0));\n",
    "[d,u] = scipy.sparse.linalg.eigs(np.dot(R,R.T),2);"
   ]
  },
  {
   "cell_type": "code",
   "execution_count": null,
   "id": "87f7ab2e",
   "metadata": {},
   "outputs": [],
   "source": []
  }
 ],
 "metadata": {
  "kernelspec": {
   "display_name": "Python 3 (ipykernel)",
   "language": "python",
   "name": "python3"
  },
  "language_info": {
   "codemirror_mode": {
    "name": "ipython",
    "version": 3
   },
   "file_extension": ".py",
   "mimetype": "text/x-python",
   "name": "python",
   "nbconvert_exporter": "python",
   "pygments_lexer": "ipython3",
   "version": "3.9.7"
  }
 },
 "nbformat": 4,
 "nbformat_minor": 5
}
